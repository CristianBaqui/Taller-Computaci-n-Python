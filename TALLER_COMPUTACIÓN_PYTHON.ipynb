{
  "nbformat": 4,
  "nbformat_minor": 0,
  "metadata": {
    "colab": {
      "provenance": [],
      "include_colab_link": true
    },
    "kernelspec": {
      "name": "python3",
      "display_name": "Python 3"
    },
    "language_info": {
      "name": "python"
    }
  },
  "cells": [
    {
      "cell_type": "markdown",
      "metadata": {
        "id": "view-in-github",
        "colab_type": "text"
      },
      "source": [
        "<a href=\"https://colab.research.google.com/github/CristianBaqui/Taller-Computaci-n-Python/blob/main/TALLER_COMPUTACI%C3%93N_PYTHON.ipynb\" target=\"_parent\"><img src=\"https://colab.research.google.com/assets/colab-badge.svg\" alt=\"Open In Colab\"/></a>"
      ]
    },
    {
      "cell_type": "markdown",
      "source": [
        "## Manipulación de strings"
      ],
      "metadata": {
        "id": "zspqV0fxRp5e"
      }
    },
    {
      "cell_type": "code",
      "execution_count": null,
      "metadata": {
        "id": "7S51pNFAQ5hq",
        "colab": {
          "base_uri": "https://localhost:8080/"
        },
        "outputId": "e2087fca-7efa-4ded-dade-5baf08b5fd22"
      },
      "outputs": [
        {
          "output_type": "stream",
          "name": "stdout",
          "text": [
            "mi nombre es Juliana Rodriguez mi pais de origen es  Venezuela y me crie en Caracas\n"
          ]
        }
      ],
      "source": [
        "# Datos iniciales\n",
        "nombre = \"juliana rodriguez\"\n",
        "pais = \"VENEZUELA\"\n",
        "ciudad = \"caracas\"\n",
        "\n",
        "# 1. Convierte el nombre a formato título\n",
        "nombre_titulo = nombre.title()\n",
        "\n",
        "# 2. Convierte el país y ciudad a formato título\n",
        "pais_titulo = pais.title()\n",
        "ciudad_titulo = ciudad.title()\n",
        "\n",
        "# 3. Cuenta cuántas 'a' hay en el nombre\n",
        "cantidad_a = nombre.count(\"a\")\n",
        "\n",
        "# 4. Reemplaza todas las 'e' por '3' en el nombre\n",
        "nombre_modificado = nombre.replace(\"e\",\"3\").title()\n",
        "\n",
        "# 5. Crea un mensaje completo\n",
        "mensaje = print(\"mi nombre es\", nombre_titulo, \"mi pais de origen es \", pais_titulo, \"y me crie en\", ciudad_titulo)\n",
        "\n",
        "\n",
        "# 6. Encuentra la primera posición de 'rodriguez' en el nombre\n",
        "posicion = nombre.find('rodriguez')\n",
        "\n",
        "# 7. Obtén solo el primer nombre (antes del espacio)\n",
        "primer_nombre = nombre.split()[0]"
      ]
    },
    {
      "cell_type": "markdown",
      "source": [
        "## Python como calculadora"
      ],
      "metadata": {
        "id": "-tfFWJiNRt4h"
      }
    },
    {
      "cell_type": "code",
      "source": [
        "# Variables iniciales\n",
        "x, y, z = 15, 8, 3\n",
        "a = 2.5\n",
        "b = 4.7\n",
        "\n",
        "# 1. Operaciones básicas\n",
        "suma_total = x + y + z\n",
        "producto_xy = x*y\n",
        "division = x/y\n",
        "potencia = x**y\n",
        "resto = x - y\n",
        "\n",
        "# 2. Potencias\n",
        "x_elevado_z = x ** y\n",
        "raiz_cuadrada = x ** 0.5\n",
        "\n",
        "# 3. Comparaciones (resultado True/False)\n",
        "x_mayor_y = x > y\n",
        "suma_mayor_20 = suma_total > 20\n",
        "producto_es_par = (x * y) % 2 == 0\n",
        "# pista: usa % 2\n",
        "\n",
        "# 4. Operaciones con decimales\n",
        "promedio_ab = ((a + b)/2)\n",
        "diferencia_absoluta = abs(a-b)# usa abs()\n",
        "\n",
        "# 5. Operaciones combinadas\n",
        "resultado_complejo = ((x ** 0.5) ** y) * (y-a+x)"
      ],
      "metadata": {
        "id": "yPRnPTRrRoWt"
      },
      "execution_count": null,
      "outputs": []
    },
    {
      "cell_type": "code",
      "source": [],
      "metadata": {
        "colab": {
          "base_uri": "https://localhost:8080/"
        },
        "id": "4vg_pkG6tDwM",
        "outputId": "fbd1f1b5-753b-4543-b86e-02105ba1688b"
      },
      "execution_count": null,
      "outputs": [
        {
          "output_type": "execute_result",
          "data": {
            "text/plain": [
              "True"
            ]
          },
          "metadata": {},
          "execution_count": 16
        }
      ]
    },
    {
      "cell_type": "markdown",
      "source": [
        "## Listas"
      ],
      "metadata": {
        "id": "32d6Da3zRvXI"
      }
    },
    {
      "cell_type": "code",
      "source": [
        "# Lista inicial\n",
        "frutas = [\"manzana\", \"pera\", \"durazno\", \"manzana\", \"fresa\"]\n",
        "\n",
        "# 1. Información básica\n",
        "longitud_lista = len(frutas)\n",
        "primera_fruta = frutas[0]\n",
        "ultima_fruta = frutas[-1]\n",
        "penultima_fruta = frutas[-2]\n",
        "\n",
        "# 2. Agregar elementos\n",
        "# Agrega \"mango\" al final\n",
        "frutas.append(\"mango\")\n",
        "# Agrega \"kiwi\" al final\n",
        "frutas.append(\"kiwi\")\n",
        "# Inserta \"naranja\" en la posición 2\n",
        "frutas.insert(1,\"naranja\")\n",
        "# 3. Modificar elementos\n",
        "# Cambia la primera fruta por \"Manzana Verde\"\n",
        "frutas[0] = \"Manzana Verde\"\n",
        "# Cambia la última fruta por \"Frutilla\"\n",
        "frutas[4] = \"Frutilla\"\n",
        "# 4. Eliminar elementos\n",
        "# Elimina la primera \"manzana\" que encuentre\n",
        "frutas.remove(\"manzana\")\n",
        "# Elimina el último elemento\n",
        "frutas.pop()\n",
        "# Elimina el elemento en posición 1\n",
        "frutas.pop(1)\n",
        "# 5. Buscar y contar\n",
        "cantidad_manzanas = frutas.count(\"manzana\")\n",
        "posicion_pera = frutas.index(\"pera\")\n",
        "\n",
        "# 6. Sublistas (slicing)\n",
        "primeras_dos = frutas[0:1]\n",
        "ultimas_tres = frutas[-3:]\n",
        "del_segundo_al_cuarto = frutas[1:4]\n",
        "\n",
        "print(\"Estado final de frutas:\", frutas)"
      ],
      "metadata": {
        "id": "g8QCD52kRxXB",
        "colab": {
          "base_uri": "https://localhost:8080/",
          "height": 216
        },
        "outputId": "51a71a59-0b1c-4549-8b41-58dedb9a4e09"
      },
      "execution_count": null,
      "outputs": [
        {
          "output_type": "error",
          "ename": "ValueError",
          "evalue": "list.remove(x): x not in list",
          "traceback": [
            "\u001b[0;31m---------------------------------------------------------------------------\u001b[0m",
            "\u001b[0;31mValueError\u001b[0m                                Traceback (most recent call last)",
            "\u001b[0;32m/tmp/ipython-input-36-2600442498.py\u001b[0m in \u001b[0;36m<cell line: 0>\u001b[0;34m()\u001b[0m\n\u001b[1;32m     22\u001b[0m \u001b[0;31m# 4. Eliminar elementos\u001b[0m\u001b[0;34m\u001b[0m\u001b[0;34m\u001b[0m\u001b[0m\n\u001b[1;32m     23\u001b[0m \u001b[0;31m# Elimina la primera \"manzana\" que encuentre\u001b[0m\u001b[0;34m\u001b[0m\u001b[0;34m\u001b[0m\u001b[0m\n\u001b[0;32m---> 24\u001b[0;31m \u001b[0mfrutas\u001b[0m\u001b[0;34m.\u001b[0m\u001b[0mremove\u001b[0m\u001b[0;34m(\u001b[0m\u001b[0;34m\"manzana\"\u001b[0m\u001b[0;34m)\u001b[0m\u001b[0;34m\u001b[0m\u001b[0;34m\u001b[0m\u001b[0m\n\u001b[0m\u001b[1;32m     25\u001b[0m \u001b[0;31m# Elimina el último elemento\u001b[0m\u001b[0;34m\u001b[0m\u001b[0;34m\u001b[0m\u001b[0m\n\u001b[1;32m     26\u001b[0m \u001b[0;34m\u001b[0m\u001b[0m\n",
            "\u001b[0;31mValueError\u001b[0m: list.remove(x): x not in list"
          ]
        }
      ]
    },
    {
      "cell_type": "code",
      "source": [
        "# Lista inicial\n",
        "frutas = [\"manzana\", \"pera\", \"durazno\", \"manzana\", \"fresa\"]\n",
        "\n",
        "# 1. Información básica\n",
        "longitud_lista = len(frutas)\n",
        "primera_fruta = frutas[0]\n",
        "ultima_fruta = frutas[-1]\n",
        "penultima_fruta = frutas[-2]\n",
        "\n",
        "# 2. Agregar elementos\n",
        "# Agrega \"mango\" al final\n",
        "frutas.append(\"mango\")\n",
        "\n",
        "# Agrega \"kiwi\" al final\n",
        "frutas.append(\"kiwi\")\n",
        "\n",
        "# Inserta \"naranja\" en la posición 2\n",
        "frutas.insert(1, \"naranja\")\n",
        "\n",
        "# 3. Modificar elementos\n",
        "# Cambia la primera por \"Manzana Verde\"\n",
        "frutas[0] = \"Manzana Verde\"\n",
        "\n",
        "# Cambia la última por \"Frutilla\"\n",
        "frutas[-1] = \"Frutilla\"\n",
        "\n",
        "# 4. Eliminar elementos\n",
        "# Elimina la primera fruta que empiece con \"manzana\"\n",
        "for fruta in frutas:\n",
        "    if fruta.lower().startswith(\"manzana\"):\n",
        "        frutas.remove(fruta)\n",
        "        break\n",
        "\n",
        "frutas.pop()        # Elimina el último elemento\n",
        "frutas.pop(1)       # Elimina el que está en la posición 1\n",
        "\n",
        "# 5. Buscar y contar\n",
        "cantidad_manzanas = frutas.count(\"manzana\")\n",
        "posicion_pera = frutas.index(\"pera\") if \"pera\" in frutas else -1\n",
        "\n",
        "# 6. Sublistas (slicing)\n",
        "primeras_dos = frutas[0:2]\n",
        "ultimas_tres = frutas[-3:]\n",
        "del_segundo_al_cuarto = frutas[1:4]\n",
        "\n",
        "# Mostrar resultados\n",
        "print(\"Estado final de frutas:\", frutas)"
      ],
      "metadata": {
        "colab": {
          "base_uri": "https://localhost:8080/"
        },
        "id": "8hjeX5KE2l9a",
        "outputId": "fd8da633-56a7-4c07-e97f-0e3bc0ecd779"
      },
      "execution_count": null,
      "outputs": [
        {
          "output_type": "stream",
          "name": "stdout",
          "text": [
            "Estado final de frutas: ['naranja', 'durazno', 'manzana', 'fresa', 'mango']\n"
          ]
        }
      ]
    },
    {
      "cell_type": "code",
      "source": [
        "print(frutas)"
      ],
      "metadata": {
        "colab": {
          "base_uri": "https://localhost:8080/"
        },
        "id": "C2yPRTd4ym5N",
        "outputId": "be563ff8-3e6d-4cae-b428-8445bb65aa79"
      },
      "execution_count": null,
      "outputs": [
        {
          "output_type": "stream",
          "name": "stdout",
          "text": [
            "['Manzana Verde', 'naranja', 'pera', 'durazno', 'Frutilla', 'fresa', 'mango', 'kiwi']\n"
          ]
        }
      ]
    },
    {
      "cell_type": "markdown",
      "source": [
        "## Listas (parte 2)"
      ],
      "metadata": {
        "id": "fNIXNo1xR1Cd"
      }
    },
    {
      "cell_type": "code",
      "source": [
        "# Lista anidada (como en tu clase)\n",
        "productos = [\n",
        "    [\"manzana\", \"pera\", \"uvas\"],           # índice 0\n",
        "    [\"lechuga\", \"tomate\", \"cebolla\"],      # índice 1\n",
        "    [\"pollo\", \"carne\", \"pescado\"]          # índice 2\n",
        "]\n",
        "\n",
        "# 1. Acceder a elementos específicos\n",
        "segunda_fruta = productos[0][1]\n",
        "primera_verdura = productos[1][0]\n",
        "tercera_carne = productos[2][2]\n",
        "\n",
        "# 2. Modificar elementos anidados\n",
        "# Cambia \"pescado\" por \"salmón\"\n",
        "productos[2][2] = \"salmón\"\n",
        "# Cambia \"uvas\" por \"sandía\"\n",
        "productos[0][2] = \"sandía\"\n",
        "# 3. Agregar elementos a sublistas\n",
        "# Agrega \"apio\" a las verduras\n",
        "productos[1].append(\"apio\")\n",
        "# Agrega \"cerdo\" a las carnes\n",
        "productos[2].append(\"cerdo\")\n",
        "# 4. Agregar nueva categoría completa\n",
        "productos.append([\"queso\", \"leche\", \"yogurt\"]) # Indice 3\n",
        "\n",
        "# 5. Contar elementos\n",
        "total_frutas = len(productos[0])\n",
        "total_verduras = len(productos[1])\n",
        "total_productos = len(productos)\n",
        "\n",
        "# 6. Buscar en listas anidadas\n",
        "# ¿Está \"tomate\" en verduras?\n",
        "tomate_en_verduras = \"tomate\" in productos[1]\n",
        "\n",
        "print(\"Productos finales:\", productos)"
      ],
      "metadata": {
        "id": "tKUlZzTER2w7",
        "colab": {
          "base_uri": "https://localhost:8080/"
        },
        "outputId": "4a19d4d4-69ca-4ec5-f177-ac1800b50525"
      },
      "execution_count": null,
      "outputs": [
        {
          "output_type": "stream",
          "name": "stdout",
          "text": [
            "Productos finales: [['manzana', 'pera', 'sandía'], ['lechuga', 'tomate', 'cebolla', 'apio'], ['pollo', 'carne', 'salmón', 'cerdo'], ['queso', 'leche', 'yogurt']]\n"
          ]
        }
      ]
    },
    {
      "cell_type": "markdown",
      "source": [
        "## Diccionarios (parte 1)"
      ],
      "metadata": {
        "id": "5nPeNHFMSGwG"
      }
    },
    {
      "cell_type": "code",
      "source": [
        "# Diccionario inicial\n",
        "estudiante = {\n",
        "    \"nombre\": \"María\",\n",
        "    \"apellido\": \"Contreras\",\n",
        "    \"pais\": \"Colombia\",\n",
        "    \"edad\": 20,\n",
        "    \"asignaturas\": [\"Computación\", \"Inglés\"],\n",
        "    \"calificaciones\": [4.8, 4.7]\n",
        "}\n",
        "\n",
        "# 1. Acceder a datos\n",
        "nombre_completo = estudiante[\"nombre\"] + \" \" + estudiante[\"apellido\"]\n",
        "primera_asignatura = estudiante[\"asignaturas\"][0]\n",
        "primera_nota = estudiante[\"calificaciones\"][0]\n",
        "\n",
        "# 2. Modificar datos existentes\n",
        "# Cambia la edad a 21\n",
        "estudiante[\"edad\"] = 21\n",
        "# Cambia el país a \"Venezuela\"\n",
        "estudiante[\"pais\"] = \"Venezuela\"\n",
        "# 3. Agregar nuevos datos\n",
        "# Agrega \"email\": \"yesenia@email.com\"\n",
        "estudiante[\"email\"] = \"yesenia@email.com\"\n",
        "# Agrega \"telefono\": \"555-1234\"\n",
        "estudiante[\"telefono\"] = \"555-1234\"\n",
        "# 4. Trabajar con listas dentro del diccionario\n",
        "# Agrega \"Matemáticas\" a asignaturas\n",
        "estudiante[\"asignaturas\"].append(\"Matematicas\")\n",
        "# Agrega la calificación 4.5\n",
        "estudiante[\"calificaciones\"].append(4.5)\n",
        "# 5. Obtener información del diccionario\n",
        "todas_las_claves = list(estudiante.keys())\n",
        "todos_los_valores = list(estudiante.values())\n",
        "\n",
        "# 6. Crear segundo estudiante\n",
        "estudiante2 = {\n",
        "    \"nombre\": \"Carlos\",\n",
        "    \"apellido\": \"Mendez\",\n",
        "    \"pais\": \"México\",\n",
        "    \"edad\": 22,\n",
        "    \"asignaturas\": [\"Física\", \"Química\"],\n",
        "    \"calificaciones\": [4.2, 3.9]\n",
        "}\n",
        "\n",
        "# 7. Comparaciones entre estudiantes\n",
        "edad_mayor = \"Estudiante 1\" if estudiante[\"edad\"] > estudiante2[\"edad\"] else \"Estudiante 2\"\n",
        "mejor_primera_nota = \"Estudiante 1\" if estudiante[\"calificaciones\"][0] > estudiante2[\"calificaciones\"][0] else \"Estudiante 2\"\n",
        "\n",
        "print(\"Estudiante 1:\", estudiante)\n",
        "print(\"Estudiante 2:\", estudiante2)"
      ],
      "metadata": {
        "id": "E9fq6OtHR9o7",
        "colab": {
          "base_uri": "https://localhost:8080/"
        },
        "outputId": "839d9afc-e009-4276-c8a1-25df08cdc211"
      },
      "execution_count": null,
      "outputs": [
        {
          "output_type": "stream",
          "name": "stdout",
          "text": [
            "Estudiante 1: {'nombre': 'María', 'apellido': 'Contreras', 'pais': 'Venezuela', 'edad': 21, 'asignaturas': ['Computación', 'Inglés', 'Matematicas'], 'calificaciones': [4.8, 4.7, 4.5], 'email': 'yesenia@email.com', 'telefono': '555-1234'}\n",
            "Estudiante 2: {'nombre': 'Carlos', 'apellido': 'Mendez', 'pais': 'México', 'edad': 22, 'asignaturas': ['Física', 'Química'], 'calificaciones': [4.2, 3.9]}\n"
          ]
        }
      ]
    },
    {
      "cell_type": "markdown",
      "source": [
        "## Diccionarios parte 2"
      ],
      "metadata": {
        "id": "1Zjpz813SJ6e"
      }
    },
    {
      "cell_type": "code",
      "source": [
        "# Lista de estudiantes\n",
        "estudiantes = [\n",
        "    {\"nombre\": \"Ana\", \"edad\": 20, \"notas\": [4.5, 4.2, 4.8]},\n",
        "    {\"nombre\": \"Luis\", \"edad\": 19, \"notas\": [3.8, 4.1, 3.9]},\n",
        "    {\"nombre\": \"María\", \"edad\": 21, \"notas\": [4.9, 4.7, 4.6]}\n",
        "]\n",
        "\n",
        "# 1. Acceder a datos específicos\n",
        "nombre_primer_estudiante = estudiantes[0][\"nombre\"]\n",
        "segunda_nota_de_luis = estudiantes[1][\"notas\"][1]\n",
        "edad_de_maria = estudiantes[2][\"edad\"]\n",
        "\n",
        "# 2. Modificar datos\n",
        "# Cambia la edad de Ana a 21\n",
        "estudiantes[0][\"edad\"] = 21\n",
        "# Agrega una nota 4.3 a Luis\n",
        "estudiantes[1][\"notas\"].append(4.3)\n",
        "# 3. Agregar nuevo estudiante\n",
        "nuevo_estudiante = {\"nombre\": \"Pedro\", \"edad\": 22, \"notas\": [4.0, 3.5, 4.2]}\n",
        "estudiantes.append(nuevo_estudiante)\n",
        "\n",
        "# 4. Calcular información\n",
        "total_estudiantes = len(estudiantes)\n",
        "suma_edades = sum(estudiante[\"edad\"] for estudiante in estudiantes)\n",
        "\n",
        "# 5. Buscar información\n",
        "# ¿Cuántos estudiantes tienen más de 20 años?\n",
        "mayores_20 = [est for est in estudiantes if est[\"edad\"] > 20]\n",
        "\n",
        "print(\"Lista final de estudiantes:\", estudiantes)"
      ],
      "metadata": {
        "id": "KqIo1JH7SLRN",
        "colab": {
          "base_uri": "https://localhost:8080/"
        },
        "outputId": "851be945-4b70-47a9-a61e-7bb58d5a0e8c"
      },
      "execution_count": null,
      "outputs": [
        {
          "output_type": "stream",
          "name": "stdout",
          "text": [
            "Lista final de estudiantes: [{'nombre': 'Ana', 'edad': 21, 'notas': [4.5, 4.2, 4.8]}, {'nombre': 'Luis', 'edad': 19, 'notas': [3.8, 4.1, 3.9, 4.3]}, {'nombre': 'María', 'edad': 21, 'notas': [4.9, 4.7, 4.6]}, {'nombre': 'Pedro', 'edad': 22, 'notas': [4.0, 3.5, 4.2]}]\n"
          ]
        }
      ]
    },
    {
      "cell_type": "markdown",
      "source": [
        "## Conjuntos"
      ],
      "metadata": {
        "id": "5vLqX9NgSPCB"
      }
    },
    {
      "cell_type": "code",
      "source": [
        "# Conjuntos iniciales (como en tu clase)\n",
        "A = {1, 2, 3, 4, 5}\n",
        "B = {4, 5, 6, 7, 8}\n",
        "C = {1, 3, 5, 7, 9}\n",
        "\n",
        "# 1. Operaciones básicas\n",
        "union_AB = A | B\n",
        "interseccion_AB = A & B\n",
        "diferencia_AB = A - B\n",
        "diferencia_BA = B - A\n",
        "\n",
        "# 2. Operaciones con tres conjuntos\n",
        "union_ABC = A | B | C\n",
        "interseccion_ABC = A & B & C\n",
        "\n",
        "# 3. Agregar y quitar elementos\n",
        "# Agrega 10 al conjunto A\n",
        "A.add(10)\n",
        "# Quita el 2 del conjunto A\n",
        "A.discard(2)\n",
        "# 4. Verificaciones\n",
        "tiene_6_A = 6 in A\n",
        "tiene_5_B = 5 in B\n",
        "esta_vacio = len(A) == 0\n",
        "\n",
        "# 5. Crear conjuntos desde listas\n",
        "numeros_duplicados = [1, 2, 2, 3, 3, 3, 4, 4, 5]\n",
        "numeros_unicos = set(numeros_duplicados)\n",
        "\n",
        "print(\"A:\", A)\n",
        "print(\"B:\", B)\n",
        "print(\"C:\", C)"
      ],
      "metadata": {
        "id": "1rlXuqeuSP44",
        "colab": {
          "base_uri": "https://localhost:8080/"
        },
        "outputId": "91333d0c-b613-4bb8-9f17-4df5c2268bab"
      },
      "execution_count": null,
      "outputs": [
        {
          "output_type": "stream",
          "name": "stdout",
          "text": [
            "A: {1, 3, 4, 5, 10}\n",
            "B: {4, 5, 6, 7, 8}\n",
            "C: {1, 3, 5, 7, 9}\n"
          ]
        }
      ]
    },
    {
      "cell_type": "markdown",
      "source": [
        "## Bucles básicos"
      ],
      "metadata": {
        "id": "9-7C93r9SVL-"
      }
    },
    {
      "cell_type": "code",
      "source": [
        "# 1. Bucle for con lista de nombres\n",
        "nombres = [\"Ana\", \"Luis\", \"Carlos\", \"María\"]\n",
        "\n",
        "# Imprime cada nombre con \"Hola\" delante\n",
        "for nombre in nombres:\n",
        "  print(\"hola\", nombre)\n",
        "\n",
        "# 2. Bucle for con números\n",
        "numeros = [10, 15, 20, 25, 30]\n",
        "\n",
        "# Calcula el cuadrado de cada número\n",
        "cuadrados = []\n",
        "for numero in numeros:\n",
        "  cuadrados.append(numero ** 2)\n",
        "\n",
        "# 3. Bucle for con range\n",
        "# Imprime números del 1 al 10\n",
        "for i in range(1,11):\n",
        "  print(\"numero:\",i)\n",
        "\n",
        "# 4. Bucle while simple\n",
        "contador = 0\n",
        "# Imprime números del 0 al 4\n",
        "while contador < 5:\n",
        "  print(\"contador:\",contador)\n",
        "  contador += 1\n",
        "\n",
        "# 5. Bucle con condiciones\n",
        "notas = [4.5, 3.2, 4.8, 2.9, 4.1]\n",
        "aprobados = 0\n",
        "reprobados = 0\n",
        "\n",
        "for nota in notas:\n",
        "    if nota >= 3.0:\n",
        "      aprobados += 1\n",
        "    else:\n",
        "      reprobados += 1\n",
        "\n",
        "print(f\"Aprobados: {aprobados}, Reprobados: {reprobados}\")"
      ],
      "metadata": {
        "id": "7IzLM9EOSWnr",
        "colab": {
          "base_uri": "https://localhost:8080/"
        },
        "outputId": "d371bfb7-b37d-49fb-e07b-8afa4aa7f078"
      },
      "execution_count": null,
      "outputs": [
        {
          "output_type": "stream",
          "name": "stdout",
          "text": [
            "hola Ana\n",
            "hola Luis\n",
            "hola Carlos\n",
            "hola María\n",
            "numero: 1\n",
            "numero: 2\n",
            "numero: 3\n",
            "numero: 4\n",
            "numero: 5\n",
            "numero: 6\n",
            "numero: 7\n",
            "numero: 8\n",
            "numero: 9\n",
            "numero: 10\n",
            "contador: 0\n",
            "contador: 1\n",
            "contador: 2\n",
            "contador: 3\n",
            "contador: 4\n",
            "Aprobados: 4, Reprobados: 1\n"
          ]
        }
      ]
    },
    {
      "cell_type": "markdown",
      "source": [
        "## Ejercicio final"
      ],
      "metadata": {
        "id": "2XVPcMhtSaS9"
      }
    },
    {
      "cell_type": "code",
      "source": [
        "# Crea tu propia información personal\n",
        "mi_informacion = {\n",
        "    \"nombre\": \"Cristian Barrera\",\n",
        "    \"edad\": 24 ,\n",
        "    \"ciudad\": \"Bogotá\",\n",
        "    \"hobbies\": [\"jugar futbol\",\"escuchar musica\",\"jugar poker\"],\n",
        "    \"colores_favoritos\": [\"negro\",\"rojo\"],\n",
        "    \"numeros_favoritos\": [\"10\",\"7\",\"23\",\"1\",\"32\",\"0\"]\n",
        "}\n",
        "\n",
        "# Completa la información\n",
        "mi_informacion[\"nombre\"] = \"Cristian Felipe Barrera Quintana\"\n",
        "# Modifica algunos datos\n",
        "mi_informacion[\"edad\"] = 24,5\n",
        "# Agrega nueva información\n",
        "mi_informacion[\"correo\"] = \"Cbarreraq@unal.edu.co\"\n",
        "mi_informacion[\"barrio\"] = \"spring\"\n",
        "# Haz operaciones con las listas\n",
        "mi_informacion[\"hobbies\"].append(\"jugar clash royale\")\n",
        "mi_informacion[\"numeros_favoritos\"].sort()\n",
        "mi_informacion[\"hobbies\"].pop(2)\n",
        "# Calcula estadísticas de tus números favoritos\n",
        "numeros_fav = list(map(int, mi_informacion[\"numeros_favoritos\"]))\n",
        "suma_numeros_fav = sum(numeros_fav)\n",
        "promedio_numeros_fav = suma_numeros_fav / len(numeros_fav)\n",
        "minimo = min(numeros_fav)\n",
        "maximo = max(numeros_fav)\n",
        "\n",
        "# Imprime la información\n",
        "print(\"Mi información completa:\", mi_informacion)"
      ],
      "metadata": {
        "id": "tHWK9bFKSbui",
        "colab": {
          "base_uri": "https://localhost:8080/"
        },
        "outputId": "d4c899ed-e9aa-4548-a9ac-c75a26647bac"
      },
      "execution_count": null,
      "outputs": [
        {
          "output_type": "stream",
          "name": "stdout",
          "text": [
            "Mi información completa: {'nombre': 'Cristian Felipe Barrera Quintana', 'edad': (24, 5), 'ciudad': 'Bogotá', 'hobbies': ['jugar futbol', 'escuchar musica', 'jugar clash royale'], 'colores_favoritos': ['negro', 'rojo'], 'numeros_favoritos': ['0', '1', '10', '23', '32', '7'], 'correo': 'Cbarreraq@unal.edu.co', 'barrio': 'spring'}\n"
          ]
        }
      ]
    }
  ]
}