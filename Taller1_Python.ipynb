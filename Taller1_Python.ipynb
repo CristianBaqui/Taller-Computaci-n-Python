{
  "nbformat": 4,
  "nbformat_minor": 0,
  "metadata": {
    "colab": {
      "provenance": [],
      "include_colab_link": true
    },
    "kernelspec": {
      "name": "python3",
      "display_name": "Python 3"
    },
    "language_info": {
      "name": "python"
    }
  },
  "cells": [
    {
      "cell_type": "markdown",
      "metadata": {
        "id": "view-in-github",
        "colab_type": "text"
      },
      "source": [
        "<a href=\"https://colab.research.google.com/github/CristianBaqui/Taller-Computaci-n-Python/blob/main/Taller1_Python.ipynb\" target=\"_parent\"><img src=\"https://colab.research.google.com/assets/colab-badge.svg\" alt=\"Open In Colab\"/></a>"
      ]
    },
    {
      "cell_type": "markdown",
      "source": [
        "## Manipulación de strings"
      ],
      "metadata": {
        "id": "zspqV0fxRp5e"
      }
    },
    {
      "cell_type": "code",
      "execution_count": null,
      "metadata": {
        "id": "7S51pNFAQ5hq"
      },
      "outputs": [],
      "source": [
        "# Datos iniciales\n",
        "nombre = \"juliana rodriguez\"\n",
        "pais = \"VENEZUELA\"\n",
        "ciudad = \"caracas\"\n",
        "\n",
        "# 1. Convierte el nombre a formato título\n",
        "nombre_titulo =\n",
        "\n",
        "# 2. Convierte el país y ciudad a formato título\n",
        "pais_titulo =\n",
        "ciudad_titulo =\n",
        "\n",
        "# 3. Cuenta cuántas 'a' hay en el nombre\n",
        "cantidad_a =\n",
        "\n",
        "# 4. Reemplaza todas las 'e' por '3' en el nombre\n",
        "nombre_modificado =\n",
        "\n",
        "# 5. Crea un mensaje completo\n",
        "mensaje =\n",
        "\n",
        "# 6. Encuentra la primera posición de 'rodriguez' en el nombre\n",
        "posicion =\n",
        "\n",
        "# 7. Obtén solo el primer nombre (antes del espacio)\n",
        "primer_nombre ="
      ]
    },
    {
      "cell_type": "markdown",
      "source": [
        "## Python como calculadora"
      ],
      "metadata": {
        "id": "-tfFWJiNRt4h"
      }
    },
    {
      "cell_type": "code",
      "source": [
        "# Variables iniciales\n",
        "x, y, z = 15, 8, 3\n",
        "a = 2.5\n",
        "b = 4.7\n",
        "\n",
        "# 1. Operaciones básicas\n",
        "suma_total =\n",
        "producto_xy =\n",
        "division =\n",
        "resto =\n",
        "\n",
        "# 2. Potencias\n",
        "x_elevado_z =\n",
        "raiz_cuadrada = # usa ** 0.5\n",
        "\n",
        "# 3. Comparaciones (resultado True/False)\n",
        "x_mayor_y =\n",
        "suma_mayor_20 =\n",
        "producto_es_par = # pista: usa % 2\n",
        "\n",
        "# 4. Operaciones con decimales\n",
        "promedio_ab =\n",
        "diferencia_absoluta = # usa abs()\n",
        "\n",
        "# 5. Operaciones combinadas\n",
        "resultado_complejo ="
      ],
      "metadata": {
        "id": "yPRnPTRrRoWt"
      },
      "execution_count": null,
      "outputs": []
    },
    {
      "cell_type": "markdown",
      "source": [
        "## Listas"
      ],
      "metadata": {
        "id": "32d6Da3zRvXI"
      }
    },
    {
      "cell_type": "code",
      "source": [
        "# Lista inicial\n",
        "frutas = [\"manzana\", \"pera\", \"durazno\", \"manzana\", \"fresa\"]\n",
        "\n",
        "# 1. Información básica\n",
        "longitud_lista =\n",
        "primera_fruta =\n",
        "ultima_fruta =\n",
        "penultima_fruta =\n",
        "\n",
        "# 2. Agregar elementos\n",
        "# Agrega \"mango\" al final\n",
        "\n",
        "# Agrega \"kiwi\" al final\n",
        "\n",
        "# Inserta \"naranja\" en la posición 2\n",
        "\n",
        "# 3. Modificar elementos\n",
        "# Cambia la primera fruta por \"Manzana Verde\"\n",
        "\n",
        "# Cambia la última fruta por \"Frutilla\"\n",
        "\n",
        "# 4. Eliminar elementos\n",
        "# Elimina la primera \"manzana\" que encuentre\n",
        "\n",
        "# Elimina el último elemento\n",
        "\n",
        "# Elimina el elemento en posición 1\n",
        "\n",
        "# 5. Buscar y contar\n",
        "cantidad_manzanas =\n",
        "posicion_pera =\n",
        "\n",
        "# 6. Sublistas (slicing)\n",
        "primeras_dos =\n",
        "ultimas_tres =\n",
        "del_segundo_al_cuarto =\n",
        "\n",
        "print(\"Estado final de frutas:\", frutas)"
      ],
      "metadata": {
        "id": "g8QCD52kRxXB"
      },
      "execution_count": null,
      "outputs": []
    },
    {
      "cell_type": "markdown",
      "source": [
        "## Listas (parte 2)"
      ],
      "metadata": {
        "id": "fNIXNo1xR1Cd"
      }
    },
    {
      "cell_type": "code",
      "source": [
        "# Lista anidada (como en tu clase)\n",
        "productos = [\n",
        "    [\"manzana\", \"pera\", \"uvas\"],           # índice 0\n",
        "    [\"lechuga\", \"tomate\", \"cebolla\"],      # índice 1\n",
        "    [\"pollo\", \"carne\", \"pescado\"]          # índice 2\n",
        "]\n",
        "\n",
        "# 1. Acceder a elementos específicos\n",
        "segunda_fruta =\n",
        "primera_verdura =\n",
        "tercera_carne =\n",
        "\n",
        "# 2. Modificar elementos anidados\n",
        "# Cambia \"pescado\" por \"salmón\"\n",
        "\n",
        "# Cambia \"uvas\" por \"sandía\"\n",
        "\n",
        "# 3. Agregar elementos a sublistas\n",
        "# Agrega \"apio\" a las verduras\n",
        "\n",
        "# Agrega \"cerdo\" a las carnes\n",
        "\n",
        "# 4. Agregar nueva categoría completa\n",
        "# Agrega una lista de lácteos: [\"leche\", \"queso\", \"yogurt\"]\n",
        "\n",
        "# 5. Contar elementos\n",
        "total_frutas =\n",
        "total_verduras =\n",
        "total_productos =\n",
        "\n",
        "# 6. Buscar en listas anidadas\n",
        "# ¿Está \"tomate\" en verduras?\n",
        "tomate_en_verduras =\n",
        "\n",
        "print(\"Productos finales:\", productos)"
      ],
      "metadata": {
        "id": "tKUlZzTER2w7"
      },
      "execution_count": null,
      "outputs": []
    },
    {
      "cell_type": "markdown",
      "source": [
        "## Diccionarios (parte 1)"
      ],
      "metadata": {
        "id": "5nPeNHFMSGwG"
      }
    },
    {
      "cell_type": "code",
      "source": [
        "# Diccionario inicial\n",
        "estudiante = {\n",
        "    \"nombre\": \"María\",\n",
        "    \"apellido\": \"Contreras\",\n",
        "    \"pais\": \"Colombia\",\n",
        "    \"edad\": 20,\n",
        "    \"asignaturas\": [\"Computación\", \"Inglés\"],\n",
        "    \"calificaciones\": [4.8, 4.7]\n",
        "}\n",
        "\n",
        "# 1. Acceder a datos\n",
        "nombre_completo =\n",
        "primera_asignatura =\n",
        "primera_nota =\n",
        "\n",
        "# 2. Modificar datos existentes\n",
        "# Cambia la edad a 21\n",
        "\n",
        "# Cambia el país a \"Venezuela\"\n",
        "\n",
        "# 3. Agregar nuevos datos\n",
        "# Agrega \"email\": \"yesenia@email.com\"\n",
        "\n",
        "# Agrega \"telefono\": \"555-1234\"\n",
        "\n",
        "# 4. Trabajar con listas dentro del diccionario\n",
        "# Agrega \"Matemáticas\" a asignaturas\n",
        "\n",
        "# Agrega la calificación 4.5\n",
        "\n",
        "# 5. Obtener información del diccionario\n",
        "todas_las_claves =\n",
        "todos_los_valores =\n",
        "\n",
        "# 6. Crear segundo estudiante\n",
        "estudiante2 = {\n",
        "    \"nombre\": \"Carlos\",\n",
        "    \"apellido\": \"Mendez\",\n",
        "    \"pais\": \"México\",\n",
        "    \"edad\": 22,\n",
        "    \"asignaturas\": [\"Física\", \"Química\"],\n",
        "    \"calificaciones\": [4.2, 3.9]\n",
        "}\n",
        "\n",
        "# 7. Comparaciones entre estudiantes\n",
        "edad_mayor =\n",
        "mejor_primera_nota =\n",
        "\n",
        "print(\"Estudiante 1:\", estudiante)\n",
        "print(\"Estudiante 2:\", estudiante2)"
      ],
      "metadata": {
        "id": "E9fq6OtHR9o7"
      },
      "execution_count": null,
      "outputs": []
    },
    {
      "cell_type": "markdown",
      "source": [
        "## Diccionarios parte 2"
      ],
      "metadata": {
        "id": "1Zjpz813SJ6e"
      }
    },
    {
      "cell_type": "code",
      "source": [
        "# Lista de estudiantes\n",
        "estudiantes = [\n",
        "    {\"nombre\": \"Ana\", \"edad\": 20, \"notas\": [4.5, 4.2, 4.8]},\n",
        "    {\"nombre\": \"Luis\", \"edad\": 19, \"notas\": [3.8, 4.1, 3.9]},\n",
        "    {\"nombre\": \"María\", \"edad\": 21, \"notas\": [4.9, 4.7, 4.6]}\n",
        "]\n",
        "\n",
        "# 1. Acceder a datos específicos\n",
        "nombre_primer_estudiante =\n",
        "segunda_nota_de_luis =\n",
        "edad_de_maria =\n",
        "\n",
        "# 2. Modificar datos\n",
        "# Cambia la edad de Ana a 21\n",
        "\n",
        "# Agrega una nota 4.3 a Luis\n",
        "\n",
        "# 3. Agregar nuevo estudiante\n",
        "nuevo_estudiante =\n",
        "# Agrégalo a la lista\n",
        "\n",
        "# 4. Calcular información\n",
        "total_estudiantes =\n",
        "suma_edades =\n",
        "\n",
        "# 5. Buscar información\n",
        "# ¿Cuántos estudiantes tienen más de 20 años?\n",
        "mayores_20 =\n",
        "\n",
        "print(\"Lista final de estudiantes:\", estudiantes)"
      ],
      "metadata": {
        "id": "KqIo1JH7SLRN"
      },
      "execution_count": null,
      "outputs": []
    },
    {
      "cell_type": "markdown",
      "source": [
        "## Conjuntos"
      ],
      "metadata": {
        "id": "5vLqX9NgSPCB"
      }
    },
    {
      "cell_type": "code",
      "source": [
        "# Conjuntos iniciales (como en tu clase)\n",
        "A = {1, 2, 3, 4, 5}\n",
        "B = {4, 5, 6, 7, 8}\n",
        "C = {1, 3, 5, 7, 9}\n",
        "\n",
        "# 1. Operaciones básicas\n",
        "union_AB =\n",
        "interseccion_AB =\n",
        "diferencia_AB =\n",
        "diferencia_BA =\n",
        "\n",
        "# 2. Operaciones con tres conjuntos\n",
        "union_ABC =\n",
        "interseccion_ABC =\n",
        "\n",
        "# 3. Agregar y quitar elementos\n",
        "# Agrega 10 al conjunto A\n",
        "\n",
        "# Quita el 2 del conjunto A\n",
        "\n",
        "# 4. Verificaciones\n",
        "tiene_6_A =\n",
        "tiene_5_B =\n",
        "esta_vacio = len() == 0\n",
        "\n",
        "# 5. Crear conjuntos desde listas\n",
        "numeros_duplicados = [1, 2, 2, 3, 3, 3, 4, 4, 5]\n",
        "numeros_unicos =\n",
        "\n",
        "print(\"A:\", A)\n",
        "print(\"B:\", B)\n",
        "print(\"C:\", C)"
      ],
      "metadata": {
        "id": "1rlXuqeuSP44"
      },
      "execution_count": null,
      "outputs": []
    },
    {
      "cell_type": "markdown",
      "source": [
        "## Bucles básicos"
      ],
      "metadata": {
        "id": "9-7C93r9SVL-"
      }
    },
    {
      "cell_type": "code",
      "source": [
        "# 1. Bucle for con lista de nombres\n",
        "nombres = [\"Ana\", \"Luis\", \"Carlos\", \"María\"]\n",
        "\n",
        "# Imprime cada nombre con \"Hola\" delante\n",
        "for nombre in nombres:\n",
        "\n",
        "\n",
        "# 2. Bucle for con números\n",
        "numeros = [10, 15, 20, 25, 30]\n",
        "\n",
        "# Calcula el cuadrado de cada número\n",
        "cuadrados = []\n",
        "for numero in numeros:\n",
        "\n",
        "\n",
        "# 3. Bucle for con range\n",
        "# Imprime números del 1 al 10\n",
        "for i in range():\n",
        "\n",
        "\n",
        "# 4. Bucle while simple\n",
        "contador = 0\n",
        "# Imprime números del 0 al 4\n",
        "while contador < 5:\n",
        "\n",
        "\n",
        "\n",
        "# 5. Bucle con condiciones\n",
        "notas = [4.5, 3.2, 4.8, 2.9, 4.1]\n",
        "aprobados = 0\n",
        "reprobados = 0\n",
        "\n",
        "for nota in notas:\n",
        "    if nota >= 3.0:\n",
        "\n",
        "    else:\n",
        "\n",
        "\n",
        "print(f\"Aprobados: {aprobados}, Reprobados: {reprobados}\")"
      ],
      "metadata": {
        "id": "7IzLM9EOSWnr"
      },
      "execution_count": null,
      "outputs": []
    },
    {
      "cell_type": "markdown",
      "source": [
        "## Ejercicio final"
      ],
      "metadata": {
        "id": "2XVPcMhtSaS9"
      }
    },
    {
      "cell_type": "code",
      "source": [
        "# Crea tu propia información personal\n",
        "mi_informacion = {\n",
        "    \"nombre\": \"\",\n",
        "    \"edad\": ,\n",
        "    \"ciudad\": \"\",\n",
        "    \"hobbies\": [],\n",
        "    \"colores_favoritos\": [],\n",
        "    \"numeros_favoritos\": []\n",
        "}\n",
        "\n",
        "# Completa la información\n",
        "# Modifica algunos datos\n",
        "# Agrega nueva información\n",
        "# Haz operaciones con las listas\n",
        "# Calcula estadísticas de tus números favoritos\n",
        "\n",
        "print(\"Mi información completa:\", mi_informacion)"
      ],
      "metadata": {
        "id": "tHWK9bFKSbui"
      },
      "execution_count": null,
      "outputs": []
    }
  ]
}